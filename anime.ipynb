{
 "cells": [
  {
   "cell_type": "code",
   "execution_count": 1,
   "metadata": {},
   "outputs": [],
   "source": [
    "import pandas as pd\n",
    "import time\n",
    "from random import choice\n",
    "import numpy as np"
   ]
  },
  {
   "cell_type": "code",
   "execution_count": null,
   "metadata": {},
   "outputs": [],
   "source": [
    "# dados = {\n",
    "#     'Quero Assistir' : ['Romantic Killer','Little Witch Academia','86','Usaki-Chan','Plastic Memories','Fullmetal Alchemist','Made In Abyss','Tower Of God','To Your Eternitty','Laid-Back Camp','A Saga Fate','Delicious In Dangeon','Castle Vania','Eiga Daisuki Pompo-San','Assassination Classroom','Blue Lock'],\n",
    "#     'Assistindo' : ['Umaru-Chan'] + ['None'] * 15 \n",
    "# }\n",
    "\n",
    "df = pd.read_excel('anime table.xlsx')\n"
   ]
  },
  {
   "cell_type": "code",
   "execution_count": 3,
   "metadata": {},
   "outputs": [
    {
     "name": "stdout",
     "output_type": "stream",
     "text": [
      "3\n",
      "2\n",
      "1\n",
      "Anime sorteado: A Saga Fate\n"
     ]
    }
   ],
   "source": [
    "while True:\n",
    "    sorteio_anime = choice(df['Quero Assistir'])\n",
    "    for i in range(3, 0, -1):\n",
    "        print(i)\n",
    "        time.sleep(1)\n",
    "        \n",
    "    print(f'Anime sorteado: {sorteio_anime}')\n",
    "\n",
    "\n",
    "    sortear_novamente = input('Precissione \"ENTER\" para prosseguir ou outro caractere qualquer para sortear novamente: ')\n",
    "\n",
    "    if sortear_novamente != '':\n",
    "        pass\n",
    "    else:\n",
    "        break"
   ]
  },
  {
   "cell_type": "code",
   "execution_count": 4,
   "metadata": {},
   "outputs": [
    {
     "name": "stdout",
     "output_type": "stream",
     "text": [
      "             Quero Assistir   Assistindo\n",
      "0           Romantic Killer  A Saga Fate\n",
      "1     Little Witch Academia  A Saga Fate\n",
      "2                        86  A Saga Fate\n",
      "3                Usaki-Chan  A Saga Fate\n",
      "4          Plastic Memories  A Saga Fate\n",
      "5       Fullmetal Alchemist  A Saga Fate\n",
      "6             Made In Abyss  A Saga Fate\n",
      "7              Tower Of God  A Saga Fate\n",
      "8         To Your Eternitty  A Saga Fate\n",
      "9            Laid-Back Camp  A Saga Fate\n",
      "10                      NaN  A Saga Fate\n",
      "11     Delicious In Dangeon  A Saga Fate\n",
      "12             Castle Vania  A Saga Fate\n",
      "13   Eiga Daisuki Pompo-San  A Saga Fate\n",
      "14  Assassination Classroom  A Saga Fate\n",
      "15                Blue Lock  A Saga Fate\n"
     ]
    }
   ],
   "source": [
    "df['Assistindo'] = sorteio_anime\n",
    "df['Quero Assistir'] = df['Quero Assistir'].replace(sorteio_anime, np.nan)\n",
    "\n",
    "print(df)"
   ]
  },
  {
   "cell_type": "code",
   "execution_count": 5,
   "metadata": {},
   "outputs": [],
   "source": [
    "adicionar_anime = input('Aperte \"Enter\" para acrescentar novo anime, ou outro caractere qualquer para sair: ')\n",
    "\n",
    "\n",
    "if not df['Quero Assistir'].isna().any():\n",
    "    print('Não há espaços para acrescentar um novo anime.')\n",
    "    \n",
    "elif adicionar_anime != '':\n",
    "    pass\n",
    "else:\n",
    "    while True:\n",
    "        nome_anime_novo = input('Nome do anime que deseja acrescentar em \"Quero Assistir\": ').strip().title()\n",
    "        confirmar_nome_anime = input('Confirme o nome do anime: ').strip().title()\n",
    "\n",
    "        if nome_anime_novo in df['Quero Assistir'].values or confirmar_nome_anime in df['Quero Assistir'].values:\n",
    "            print('Esse anime já está na lista!')\n",
    "        elif nome_anime_novo in df['Assistindo'].values or confirmar_nome_anime in df['Assistindo'].values:\n",
    "            print('Você já está assistindo este anime!')\n",
    "        elif nome_anime_novo == confirmar_nome_anime:\n",
    "            df.loc[df['Quero Assistir'].isna(), 'Quero Assistir'] = nome_anime_novo\n",
    "            print('Os nomes são idênticos. Anime adicionado a \"Quero Assistir\".')\n",
    "            break\n",
    "        else:\n",
    "            print('Os nomes digitados não são iguais!')\n"
   ]
  },
  {
   "cell_type": "code",
   "execution_count": 6,
   "metadata": {},
   "outputs": [
    {
     "name": "stdout",
     "output_type": "stream",
     "text": [
      "Alterações salvas\n"
     ]
    }
   ],
   "source": [
    "salva_arquivo = input('Digite \"ENTER\" para salvar as alterações, ou algum putro caractere para não salvar.')\n",
    "\n",
    "if salva_arquivo == '':\n",
    "    df.to_excel('anime table.xlsx')\n",
    "    print('Alterações salvas')\n",
    "else:\n",
    "    print('Não salvo.')"
   ]
  },
  {
   "cell_type": "code",
   "execution_count": 14,
   "metadata": {},
   "outputs": [
    {
     "data": {
      "text/html": [
       "<div>\n",
       "<style scoped>\n",
       "    .dataframe tbody tr th:only-of-type {\n",
       "        vertical-align: middle;\n",
       "    }\n",
       "\n",
       "    .dataframe tbody tr th {\n",
       "        vertical-align: top;\n",
       "    }\n",
       "\n",
       "    .dataframe thead th {\n",
       "        text-align: right;\n",
       "    }\n",
       "</style>\n",
       "<table border=\"1\" class=\"dataframe\">\n",
       "  <thead>\n",
       "    <tr style=\"text-align: right;\">\n",
       "      <th></th>\n",
       "      <th>Quero Assistir</th>\n",
       "      <th>Assistindo</th>\n",
       "    </tr>\n",
       "  </thead>\n",
       "  <tbody>\n",
       "    <tr>\n",
       "      <th>0</th>\n",
       "      <td>Romantic Killer</td>\n",
       "      <td>Umaru-Chan</td>\n",
       "    </tr>\n",
       "    <tr>\n",
       "      <th>1</th>\n",
       "      <td>Little Witch Academia</td>\n",
       "      <td>NaN</td>\n",
       "    </tr>\n",
       "    <tr>\n",
       "      <th>2</th>\n",
       "      <td>86</td>\n",
       "      <td>NaN</td>\n",
       "    </tr>\n",
       "    <tr>\n",
       "      <th>3</th>\n",
       "      <td>Usaki-Chan</td>\n",
       "      <td>NaN</td>\n",
       "    </tr>\n",
       "    <tr>\n",
       "      <th>4</th>\n",
       "      <td>Plastic Memories</td>\n",
       "      <td>NaN</td>\n",
       "    </tr>\n",
       "    <tr>\n",
       "      <th>5</th>\n",
       "      <td>Fullmetal Alchemist</td>\n",
       "      <td>NaN</td>\n",
       "    </tr>\n",
       "    <tr>\n",
       "      <th>6</th>\n",
       "      <td>Made In Abyss</td>\n",
       "      <td>NaN</td>\n",
       "    </tr>\n",
       "    <tr>\n",
       "      <th>7</th>\n",
       "      <td>Tower Of God</td>\n",
       "      <td>NaN</td>\n",
       "    </tr>\n",
       "    <tr>\n",
       "      <th>8</th>\n",
       "      <td>To Your Eternitty</td>\n",
       "      <td>NaN</td>\n",
       "    </tr>\n",
       "    <tr>\n",
       "      <th>9</th>\n",
       "      <td>Laid-Back Camp</td>\n",
       "      <td>NaN</td>\n",
       "    </tr>\n",
       "    <tr>\n",
       "      <th>10</th>\n",
       "      <td>A Saga Fate</td>\n",
       "      <td>NaN</td>\n",
       "    </tr>\n",
       "    <tr>\n",
       "      <th>11</th>\n",
       "      <td>Delicious In Dangeon</td>\n",
       "      <td>NaN</td>\n",
       "    </tr>\n",
       "    <tr>\n",
       "      <th>12</th>\n",
       "      <td>Castle Vania</td>\n",
       "      <td>NaN</td>\n",
       "    </tr>\n",
       "    <tr>\n",
       "      <th>13</th>\n",
       "      <td>Eiga Daisuki Pompo-San</td>\n",
       "      <td>NaN</td>\n",
       "    </tr>\n",
       "    <tr>\n",
       "      <th>14</th>\n",
       "      <td>Assassination Classroom</td>\n",
       "      <td>NaN</td>\n",
       "    </tr>\n",
       "    <tr>\n",
       "      <th>15</th>\n",
       "      <td>Blue Lock</td>\n",
       "      <td>NaN</td>\n",
       "    </tr>\n",
       "  </tbody>\n",
       "</table>\n",
       "</div>"
      ],
      "text/plain": [
       "             Quero Assistir  Assistindo\n",
       "0           Romantic Killer  Umaru-Chan\n",
       "1     Little Witch Academia         NaN\n",
       "2                        86         NaN\n",
       "3                Usaki-Chan         NaN\n",
       "4          Plastic Memories         NaN\n",
       "5       Fullmetal Alchemist         NaN\n",
       "6             Made In Abyss         NaN\n",
       "7              Tower Of God         NaN\n",
       "8         To Your Eternitty         NaN\n",
       "9            Laid-Back Camp         NaN\n",
       "10              A Saga Fate         NaN\n",
       "11     Delicious In Dangeon         NaN\n",
       "12             Castle Vania         NaN\n",
       "13   Eiga Daisuki Pompo-San         NaN\n",
       "14  Assassination Classroom         NaN\n",
       "15                Blue Lock         NaN"
      ]
     },
     "execution_count": 14,
     "metadata": {},
     "output_type": "execute_result"
    }
   ],
   "source": [
    "pd.read_excel('anime table.xlsx')"
   ]
  }
 ],
 "metadata": {
  "kernelspec": {
   "display_name": "base",
   "language": "python",
   "name": "python3"
  },
  "language_info": {
   "codemirror_mode": {
    "name": "ipython",
    "version": 3
   },
   "file_extension": ".py",
   "mimetype": "text/x-python",
   "name": "python",
   "nbconvert_exporter": "python",
   "pygments_lexer": "ipython3",
   "version": "3.12.7"
  }
 },
 "nbformat": 4,
 "nbformat_minor": 2
}
